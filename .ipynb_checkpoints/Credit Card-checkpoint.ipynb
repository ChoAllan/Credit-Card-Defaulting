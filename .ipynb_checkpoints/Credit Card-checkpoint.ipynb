{
 "cells": [
  {
   "cell_type": "markdown",
   "id": "bff3d7ab-7b65-458f-9c6b-da01a46eb637",
   "metadata": {
    "tags": []
   },
   "source": [
    "## Credit Card Payment Default\n"
   ]
  }
 ],
 "metadata": {
  "kernelspec": {
   "display_name": "Python [conda env:cpsc330]",
   "language": "python",
   "name": "conda-env-cpsc330-py"
  },
  "language_info": {
   "codemirror_mode": {
    "name": "ipython",
    "version": 3
   },
   "file_extension": ".py",
   "mimetype": "text/x-python",
   "name": "python",
   "nbconvert_exporter": "python",
   "pygments_lexer": "ipython3",
   "version": "3.9.7"
  }
 },
 "nbformat": 4,
 "nbformat_minor": 5
}
