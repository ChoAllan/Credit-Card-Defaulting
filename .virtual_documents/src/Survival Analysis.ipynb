import os

get_ipython().run_line_magic("matplotlib", " inline")
import sys

import matplotlib.pyplot as plt
import numpy as np
import pandas as pd
import seaborn as sns
import xgboost as xgb
from sklearn.compose import ColumnTransformer, make_column_transformer
from sklearn.dummy import DummyClassifier
from sklearn.ensemble import RandomForestClassifier
from sklearn.impute import SimpleImputer
from sklearn.linear_model import LogisticRegression
from sklearn.metrics import (
    classification_report,
    confusion_matrix,
    f1_score,
    make_scorer,
    plot_confusion_matrix,
)
from sklearn.model_selection import (
    GridSearchCV,
    RandomizedSearchCV,
    cross_val_score,
    cross_validate,
    train_test_split,
)
from sklearn.pipeline import Pipeline, make_pipeline
from sklearn.preprocessing import (
    FunctionTransformer,
    OneHotEncoder,
    OrdinalEncoder,
    StandardScaler,
)
from sklearn.svm import SVC

import lifelines


# reading dataset from CSV file
cc_df = pd.read_csv("../data/UCI_Credit_Card.csv")


pd.DataFrame(cc_df["default.payment.next.month"].value_counts())
new_df = cc_df.rename(columns={"default.payment.next.month":'default'})

new_df


categorical_feats = [
    'MARRIAGE',
    'EDUCATION'
]

numeric_feats = [
    'LIMIT_BAL',
    'BILL_AMT1',
    'BILL_AMT2',
    'BILL_AMT3',
    'BILL_AMT4',
    'BILL_AMT5',
    'BILL_AMT6',
    'PAY_AMT1',
    'PAY_AMT2',
    'PAY_AMT3',
    'PAY_AMT4',
    'PAY_AMT5',
    'PAY_AMT6',
    'PAY_0',
    'PAY_2',
    'PAY_3',
    'PAY_4',
    'PAY_5',
    'PAY_6',
    'AGE',
    'SEX'
]

drop_feats = [
]

passthrough_feats = [

]
target_column = ['default']


preprocessing_final = make_column_transformer(
    (
        FunctionTransformer(lambda x: x == 1),
        target_column,
    ),  # because we need it in this format for lifelines package
    ("passthrough", numeric_feats),
    # (StandardScaler(), numeric_feats),
    (OneHotEncoder(handle_unknown="ignore", sparse=False), categorical_feats),
    ("drop", drop_feats),
)



train_df, test_df = train_test_split(new_df, random_state=123)


preprocessing_final.fit(train_df)


new_columns = (
    target_column
    + passthrough_feats
    + numeric_feats
    + preprocessing_final.named_transformers_["onehotencoder"]
    .get_feature_names(categorical_feats)
    .tolist()
)



train_df_surv = pd.DataFrame(
    preprocessing_final.transform(train_df), index=train_df.index, columns=new_columns
)
test_df_surv = pd.DataFrame(
    preprocessing_final.transform(test_df), index=test_df.index, columns=new_columns
)


train_df_surv.describe()


kmf = lifelines.KaplanMeierFitter()
kmf.fit(train_df_surv["PAY_0" ], train_df_surv["default"])


kmf.survival_function_.plot()
plt.title("Survival function of customer defaulting")
plt.xlabel("Time with Card (months)")
plt.ylabel("Survival probability")





T = train_df_surv["PAY_0"]
E = train_df_surv["default"]


old = train_df_surv["AGE"] > 30
E = train_df_surv["default"]
ax = plt.subplot(111)

kmf.fit(T[old], event_observed=E[old], label="old")
kmf.plot(ax=ax)

kmf.fit(T[~old], event_observed=E[~old], label="young")
kmf.plot(ax=ax)

plt.ylim(0, 1)
plt.xlim(0)
plt.xlabel("Time with service (months)")
plt.ylabel("Survival probability");


cph = lifelines.CoxPHFitter(penalizer=0.1)
cph.fit(train_df_surv, duration_col="PAY_6", event_col="default")


cph_params = pd.DataFrame(cph.params_).sort_values(by="coef", ascending=False)
cph_params



cph.plot_partial_effects_on_outcome("PAY_2", [-1, 0, 1, 2, 3, 4, 5, 6, 7, 8, 9]);


cph.predict_expectation(test_df_surv)


cph.predict_survival_function(test_df_surv[:10]).plot()
plt.xlabel("Time with Card (months)")
plt.ylabel("Survival probability");
